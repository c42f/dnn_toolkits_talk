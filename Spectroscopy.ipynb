{
 "cells": [
  {
   "cell_type": "markdown",
   "metadata": {},
   "source": [
    "# Spectroscopic Fitting for in-vivo Metabolomics\n",
    "\n",
    "## AKA *Accurately inferring body chemistry using an MRI machine*"
   ]
  },
  {
   "cell_type": "markdown",
   "metadata": {},
   "source": [
    "# Some problems:\n",
    "\n",
    "## Non-ideal measurement\n",
    "\n",
    "* Accurate spectroscopy requires averaging\n",
    "* People move and breathe\n",
    "* Suceptibility of tissue\n",
    "\n",
    "## "
   ]
  },
  {
   "cell_type": "markdown",
   "metadata": {},
   "source": [
    "# Existing work\n",
    "\n",
    "Not a lot of work seems to have been done yet.\n",
    "\n",
    "### Magnetic Resonance Spectroscopy Quantification using Deep Learning\n",
    "https://arxiv.org/abs/1806.07237\n",
    "\n",
    "A realatively simple paper providing a bit of a baseline. Has a useful (introductory) generative signal model. A bit light on analysis.\n",
    "\n",
    "### Quantification of Metabolites in Magnetic Resonance Spectroscopic Imaging Using Machine Learning\n",
    "http://sci-hub.tw/10.1007/978-3-319-66179-7_53\n",
    "\n",
    "Uses random forests, but "
   ]
  },
  {
   "cell_type": "code",
   "execution_count": null,
   "metadata": {},
   "outputs": [],
   "source": []
  }
 ],
 "metadata": {
  "@webio": {
   "lastCommId": "ccae10ef812c4ceabbc35cc632d82877",
   "lastKernelId": "4faaf7ca-d1d3-483d-bfb0-57497b9d920f"
  },
  "kernelspec": {
   "display_name": "Julia 1.0.2",
   "language": "julia",
   "name": "julia-1.0"
  },
  "language_info": {
   "file_extension": ".jl",
   "mimetype": "application/julia",
   "name": "julia",
   "version": "1.0.2"
  },
  "latex_envs": {
   "LaTeX_envs_menu_present": true,
   "autoclose": false,
   "autocomplete": true,
   "bibliofile": "biblio.bib",
   "cite_by": "apalike",
   "current_citInitial": 1,
   "eqLabelWithNumbers": true,
   "eqNumInitial": 1,
   "hotkeys": {
    "equation": "Ctrl-E",
    "itemize": "Ctrl-I"
   },
   "labels_anchors": false,
   "latex_user_defs": false,
   "report_style_numbering": false,
   "user_envs_cfg": false
  }
 },
 "nbformat": 4,
 "nbformat_minor": 2
}
