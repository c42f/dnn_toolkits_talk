{
 "cells": [
  {
   "cell_type": "markdown",
   "metadata": {},
   "source": [
    "# Spectroscopic Fitting for in-vivo Metabolomics\n",
    "\n",
    "## AKA *Accurately inferring body chemistry using an MRI machine*"
   ]
  },
  {
   "cell_type": "markdown",
   "metadata": {},
   "source": [
    "# Example single voxel spectra\n",
    "\n",
    "![Brain spectra Example](https://www.dovepress.com/cr_data/article_fulltext/s56000/56404/img/fig1.jpg)"
   ]
  },
  {
   "cell_type": "markdown",
   "metadata": {},
   "source": [
    "# Some problems:\n",
    "\n",
    "## Non-ideal measurement\n",
    "\n",
    "* SNR is often poor; accurate measurement requires averaging\n",
    "* People move and breathe\n",
    "* Suceptibility of tissue causes local field changes and ruins homogenaity\n",
    "\n",
    "#### The following artifacts occur\n",
    "\n",
    "* Line broadening\n",
    "    * \"structureless\" broadening via local inhomogenaity\n",
    "    * motion broadening frequency modulation\n",
    "* Frequency shift: Peaks move up to several times the line width in spectroscopy of breast tissue!\n",
    "* Incomplete water/fat suppression:\n",
    "\n",
    "## Slow fitting\n",
    "\n",
    "* Existing quantification state of the art is based on iterative nonlinear fitting\n",
    "* Slow!\n",
    "* Doesn't attack artifacts with a model"
   ]
  },
  {
   "cell_type": "markdown",
   "metadata": {},
   "source": [
    "# Existing work\n",
    "\n",
    "Not a lot of work seems to have been done yet.\n",
    "\n",
    "### Magnetic Resonance Spectroscopy Quantification using Deep Learning\n",
    "* by Nima Hatami, Michael Sdika, and Helene Ratiney\n",
    "* https://arxiv.org/pdf/1806.07237.pdf\n",
    "* A relatively simple paper providing a bit of a baseline. Has a useful (introductory) generative signal model. A bit light on analysis.\n",
    "\n",
    "### Quantification of Metabolites in Magnetic Resonance Spectroscopic Imaging Using Machine Learning\n",
    "* Dhritiman Das, Eduardo Coello, Rolf F. Schulte and Bjoern H. Menze\n",
    "* http://sci-hub.tw/10.1007/978-3-319-66179-7_53\n",
    "* Precursor work using random forests"
   ]
  },
  {
   "cell_type": "markdown",
   "metadata": {},
   "source": [
    "# Sample data\n",
    "\n",
    "ISMRM MRS fitting challenge gives clean example spectra for 20 metabolites or so:\n",
    "\n",
    "https://www.ismrm.org/workshops/Spectroscopy16/mrs_fitting_challenge/"
   ]
  },
  {
   "cell_type": "markdown",
   "metadata": {},
   "source": [
    "# Ideas\n",
    "\n",
    "* Use the simple forward signal model to generate loads of training data.\n",
    "* 1D spectra are not large!  1024 data points in 1D is standard, cf 32x32 2-color image\n",
    "\n",
    "## Spectral Domain\n",
    "\n",
    "* Dip our toes in the water by reproducing the Hatami paper\n",
    "* Regression: Compute metabolite concentraions and linewidths from spectrum\n",
    "* Perhaps try a residual network?\n",
    "\n",
    "## Time Domain\n",
    "\n",
    "* Train model to reconstruct a clean spectrum from corrupted time domian data\n",
    "* Try to attack in vivo artifacts directly using a model.\n",
    "* Try to train a model to suppress water artifact\n",
    "* Artifacts: Incomplete water suppression, frequency shift, line broadening"
   ]
  },
  {
   "cell_type": "code",
   "execution_count": null,
   "metadata": {},
   "outputs": [],
   "source": []
  }
 ],
 "metadata": {
  "@webio": {
   "lastCommId": "ccae10ef812c4ceabbc35cc632d82877",
   "lastKernelId": "4faaf7ca-d1d3-483d-bfb0-57497b9d920f"
  },
  "kernelspec": {
   "display_name": "Julia 1.0.2",
   "language": "julia",
   "name": "julia-1.0"
  },
  "language_info": {
   "file_extension": ".jl",
   "mimetype": "application/julia",
   "name": "julia",
   "version": "1.0.2"
  },
  "latex_envs": {
   "LaTeX_envs_menu_present": true,
   "autoclose": false,
   "autocomplete": true,
   "bibliofile": "biblio.bib",
   "cite_by": "apalike",
   "current_citInitial": 1,
   "eqLabelWithNumbers": true,
   "eqNumInitial": 1,
   "hotkeys": {
    "equation": "Ctrl-E",
    "itemize": "Ctrl-I"
   },
   "labels_anchors": false,
   "latex_user_defs": false,
   "report_style_numbering": false,
   "user_envs_cfg": false
  }
 },
 "nbformat": 4,
 "nbformat_minor": 2
}
