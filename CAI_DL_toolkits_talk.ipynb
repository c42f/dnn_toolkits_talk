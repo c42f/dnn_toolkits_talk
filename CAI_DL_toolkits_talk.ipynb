{
 "cells": [
  {
   "cell_type": "markdown",
   "metadata": {
    "slideshow": {
     "slide_type": "slide"
    }
   },
   "source": [
    "# Tutorial: Deep Learning Toolkits\n",
    "\n",
    "### Dr Chris Foster, TRI\n",
    "\n",
    "[chris.foster@tri.edu.au](mailto:chris.foster@tri.edu.au)"
   ]
  },
  {
   "cell_type": "markdown",
   "metadata": {
    "slideshow": {
     "slide_type": "slide"
    }
   },
   "source": [
    "## Overview\n",
    "\n",
    "* Deep Neural Network toolkits - why and what?\n",
    "* Interactive tutorials for popular toolkits"
   ]
  },
  {
   "cell_type": "markdown",
   "metadata": {
    "slideshow": {
     "slide_type": "slide"
    }
   },
   "source": [
    "# Why toolkits?\n",
    "\n",
    "## A reusable tool bag of components\n",
    "\n",
    "* Network structure; layers, connectivity\n",
    "* Loss functions defining optimization objective\n",
    "* Optimization methods for training (SGD,(+Momentum),ADAM,...)\n",
    "* Computation of gradients (reverse mode AD aka \"backpropagation\")\n",
    "* Computational backends (CPU/GPU/TPU/...)\n",
    "* Packaged example training datasets\n",
    "* Model persistence, deployment\n",
    "* ...\n",
    "\n"
   ]
  },
  {
   "cell_type": "markdown",
   "metadata": {
    "slideshow": {
     "slide_type": "slide"
    }
   },
   "source": [
    "# Some toolkits\n",
    "\n",
    "![MNIST digits](arvix_graph_cut.png)\n",
    "\n",
    "* Credit Andrej Karpathy in <https://twitter.com/karpathy/status/972295865187512320?lang=en>"
   ]
  },
  {
   "cell_type": "markdown",
   "metadata": {
    "slideshow": {
     "slide_type": "slide"
    }
   },
   "source": [
    "# We will look at\n",
    "\n",
    "Somewhat in depth\n",
    "\n",
    "* [Keras](https://keras.io) — *Simple* python framework (various backends)\n",
    "\n",
    "A shallower view, depending on time\n",
    "\n",
    "* [Flux](http://fluxml.ai) — *Flexible transparent* pure julia framework\n",
    "* [PyTorch](https://pytorch.org/) — *Flexible*, python-native framework (cf numpy)\n",
    "* [TensorFlow](https://www.tensorflow.org) — *\"Industrial strength\"* C++ framework; python frontend"
   ]
  },
  {
   "cell_type": "markdown",
   "metadata": {
    "slideshow": {
     "slide_type": "slide"
    }
   },
   "source": [
    "# Tutorial overview\n",
    "\n",
    "* Toolkit-specific installation\n",
    "* Data set import\n",
    "* Model & loss function setup\n",
    "* Training\n",
    "* Pretty pictures of the output\n",
    "* Compare code from different toolkits"
   ]
  },
  {
   "cell_type": "markdown",
   "metadata": {
    "slideshow": {
     "slide_type": "slide"
    }
   },
   "source": [
    "# Dataset and model\n",
    "\n",
    "* Teach the computer to *compress* pictures of handwritten digits\n",
    "* Standard MNIST dataset (boo!)\n",
    "* Use class of models known as *autoencoders*\n",
    "* *Generate* new random digits (depending on time!)"
   ]
  },
  {
   "cell_type": "markdown",
   "metadata": {
    "slideshow": {
     "slide_type": "slide"
    }
   },
   "source": [
    "## Dataset \n",
    "\n",
    "* https://en.wikipedia.org/wiki/MNIST_database\n",
    "* 60000 training images; 10000 test images\n",
    "\n",
    "![MNIST digits](MnistExamples.png)\n"
   ]
  },
  {
   "cell_type": "markdown",
   "metadata": {
    "slideshow": {
     "slide_type": "slide"
    }
   },
   "source": [
    "## Autoencoders\n",
    "\n",
    "* https://en.wikipedia.org/wiki/Autoencoder\n",
    "* Compresses redundant information into low dimensions\n",
    "* Can generate interesting low dimensional feature spaces\n",
    "* If distribution of `z` is known, we have a *generative model*\n",
    "\n",
    "![Autoencoder structure](Autoencoder_structure.png)\n"
   ]
  },
  {
   "cell_type": "markdown",
   "metadata": {
    "slideshow": {
     "slide_type": "slide"
    }
   },
   "source": [
    "# Keras example!"
   ]
  },
  {
   "cell_type": "markdown",
   "metadata": {
    "slideshow": {
     "slide_type": "slide"
    }
   },
   "source": [
    "## Variational Autoencoder\n",
    "\n",
    "* A great blog post: <https://jaan.io/what-is-variational-autoencoder-vae-tutorial>\n",
    "* Force the code $z$ to be known distribution (a multivariate gaussian).\n",
    "* Can compress input, just as a normal autoencoder\n",
    "* Can *generate* new output by sampling from the known distribution of $z$."
   ]
  },
  {
   "cell_type": "markdown",
   "metadata": {
    "slideshow": {
     "slide_type": "slide"
    }
   },
   "source": [
    "# TensorFlow\n",
    "\n",
    "* Powerful C++ framework from Google, with native python API\n",
    "\n",
    "* TensorFlow 2.0 is almost out!  Some things (eg, layer definitions) are becoming Keras-like\n",
    "https://pgaleone.eu/tensorflow/gan/2018/11/04/tensorflow-2-models-migration-and-new-design/\n",
    "\n",
    "* A modern example of a convolutional autoencoder in TF\n",
    "https://github.com/nvmoyar/autoencoders/blob/master/Convolutional_Autoencoder_MNIST.ipynb"
   ]
  },
  {
   "cell_type": "markdown",
   "metadata": {
    "slideshow": {
     "slide_type": "slide"
    }
   },
   "source": [
    "## Links\n",
    "\n",
    "* [Keras vs pytorch](https://deepsense.ai/keras-or-pytorch)\n",
    "* [Trends in Machine Learning](https://medium.com/@karpathy/a-peek-at-trends-in-machine-learning-ab8a1085a106)"
   ]
  },
  {
   "cell_type": "markdown",
   "metadata": {
    "slideshow": {
     "slide_type": "skip"
    }
   },
   "source": [
    "To run the slides server\n",
    "```\n",
    "jupyter nbconvert CAI_DL_toolkits_talk.ipynb --to slides --post serve\n",
    "```"
   ]
  }
 ],
 "metadata": {
  "@webio": {
   "lastCommId": "982e261b185f4e548d4e64222d906d98",
   "lastKernelId": "4bc821ae-444f-4bb4-aa2c-871e5ea109c9"
  },
  "celltoolbar": "Slideshow",
  "kernelspec": {
   "display_name": "Julia 1.0.2",
   "language": "julia",
   "name": "julia-1.0"
  },
  "language_info": {
   "file_extension": ".jl",
   "mimetype": "application/julia",
   "name": "julia",
   "version": "1.0.2"
  },
  "latex_envs": {
   "LaTeX_envs_menu_present": true,
   "autoclose": false,
   "autocomplete": true,
   "bibliofile": "biblio.bib",
   "cite_by": "apalike",
   "current_citInitial": 1,
   "eqLabelWithNumbers": true,
   "eqNumInitial": 1,
   "hotkeys": {
    "equation": "Ctrl-E",
    "itemize": "Ctrl-I"
   },
   "labels_anchors": false,
   "latex_user_defs": false,
   "report_style_numbering": false,
   "user_envs_cfg": false
  }
 },
 "nbformat": 4,
 "nbformat_minor": 2
}
