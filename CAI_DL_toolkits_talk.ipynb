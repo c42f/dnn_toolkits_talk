{
 "cells": [
  {
   "cell_type": "markdown",
   "metadata": {
    "slideshow": {
     "slide_type": "slide"
    }
   },
   "source": [
    "# Tutorial: Deep Learning Toolkits"
   ]
  },
  {
   "cell_type": "markdown",
   "metadata": {
    "slideshow": {
     "slide_type": "slide"
    }
   },
   "source": [
    "## Overview\n",
    "\n",
    "* DNN toolkits - why and what?\n",
    "* Interactive tutorials for popular toolkits"
   ]
  },
  {
   "cell_type": "markdown",
   "metadata": {
    "slideshow": {
     "slide_type": "slide"
    }
   },
   "source": [
    "# Why toolkits?\n",
    "\n",
    "## A reusable tool bag of components\n",
    "\n",
    "* Network structure; layers, connectivity\n",
    "* Loss functions defining optimization problem\n",
    "* Optimization methods for training (SGD,(+Momentum),ADAM,...)\n",
    "* Computation of gradients (reverse mode AD aka \"backpropagation\")\n",
    "* Computational backends (CPU/GPU/TPU/...)\n",
    "* Packaged example training datasets\n",
    "* Deployment frameworks\n",
    "* ...\n",
    "\n"
   ]
  },
  {
   "cell_type": "markdown",
   "metadata": {
    "slideshow": {
     "slide_type": "slide"
    }
   },
   "source": [
    "# Some toolkits\n",
    "\n",
    "![MNIST digits](arvix_graph_cut.png)\n",
    "\n",
    "(from https://deepsense.ai/keras-or-pytorch/)"
   ]
  },
  {
   "cell_type": "markdown",
   "metadata": {
    "slideshow": {
     "slide_type": "slide"
    }
   },
   "source": [
    "# We will look at\n",
    "\n",
    "* [Keras](https://keras.io) — *Simple* python framework (various backends)\n",
    "* [PyTorch](https://pytorch.org/) — *Flexible*, python-native framework (cf numpy)\n",
    "* [TensorFlow](https://www.tensorflow.org) — *\"Industrial strength\"* C++ framework; python frontend\n",
    "* [Flux](http://fluxml.ai) — *Flexible transparent* pure julia framework"
   ]
  },
  {
   "cell_type": "markdown",
   "metadata": {
    "slideshow": {
     "slide_type": "slide"
    }
   },
   "source": [
    "# Tutorial overview\n",
    "\n",
    "* Toolkit-specific installation\n",
    "* Data set import\n",
    "* Model & loss function setup\n",
    "* Training\n",
    "* Pretty pictures!\n",
    "   * Generated digits\n",
    "   * Latent space structure\n",
    "* Compare code from different toolkits"
   ]
  },
  {
   "cell_type": "markdown",
   "metadata": {
    "slideshow": {
     "slide_type": "slide"
    }
   },
   "source": [
    "# Dataset and model\n",
    "\n",
    "* We will teach the compute to draw \"handwritten\" digits\n",
    "* Standard MNIST dataset (boo!)\n",
    "* Train a variational autoencoder\n",
    "* *Generate* new random digits"
   ]
  },
  {
   "cell_type": "markdown",
   "metadata": {
    "slideshow": {
     "slide_type": "slide"
    }
   },
   "source": [
    "## Dataset \n",
    "https://en.wikipedia.org/wiki/MNIST_database\n",
    "\n",
    "![MNIST digits](MnistExamples.png)\n"
   ]
  },
  {
   "cell_type": "markdown",
   "metadata": {
    "slideshow": {
     "slide_type": "slide"
    }
   },
   "source": [
    "## Generic Autoencoder\n",
    "\n",
    "* https://en.wikipedia.org/wiki/Autoencoder\n",
    "* Compresses redundant information into low dimensions\n",
    "\n",
    "![Autoencoder structure](Autoencoder_structure.png)\n"
   ]
  },
  {
   "cell_type": "markdown",
   "metadata": {},
   "source": [
    "## Variational Autoencoder\n",
    "\n",
    "* Force the code $z$ to be known distribution (a multivariate gaussian).\n",
    "* Can compress input, just as a normal autoencoder\n",
    "* Can *generate* new output by sampling from the known distribution of $z$."
   ]
  },
  {
   "cell_type": "code",
   "execution_count": null,
   "metadata": {},
   "outputs": [],
   "source": []
  }
 ],
 "metadata": {
  "@webio": {
   "lastCommId": "712d3f54122743278f8dba1ff174485c",
   "lastKernelId": "d16eff0f-ec11-4b20-828b-688f44df06cc"
  },
  "celltoolbar": "Slideshow",
  "kernelspec": {
   "display_name": "Python 3",
   "language": "python",
   "name": "python3"
  },
  "language_info": {
   "codemirror_mode": {
    "name": "ipython",
    "version": 3
   },
   "file_extension": ".py",
   "mimetype": "text/x-python",
   "name": "python",
   "nbconvert_exporter": "python",
   "pygments_lexer": "ipython3",
   "version": "3.6.6"
  },
  "latex_envs": {
   "LaTeX_envs_menu_present": true,
   "autoclose": false,
   "autocomplete": true,
   "bibliofile": "biblio.bib",
   "cite_by": "apalike",
   "current_citInitial": 1,
   "eqLabelWithNumbers": true,
   "eqNumInitial": 1,
   "hotkeys": {
    "equation": "Ctrl-E",
    "itemize": "Ctrl-I"
   },
   "labels_anchors": false,
   "latex_user_defs": false,
   "report_style_numbering": false,
   "user_envs_cfg": false
  }
 },
 "nbformat": 4,
 "nbformat_minor": 2
}
