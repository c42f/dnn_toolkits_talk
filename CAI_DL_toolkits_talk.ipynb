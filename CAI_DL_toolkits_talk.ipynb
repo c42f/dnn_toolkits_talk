{
 "cells": [
  {
   "cell_type": "markdown",
   "metadata": {
    "slideshow": {
     "slide_type": "slide"
    }
   },
   "source": [
    "# Tutorial: Deep Learning Toolkits"
   ]
  },
  {
   "cell_type": "markdown",
   "metadata": {
    "slideshow": {
     "slide_type": "slide"
    }
   },
   "source": [
    "## Overview\n",
    "\n",
    "* DNN toolkits - why and what?\n",
    "* Interactive tutorials for popular toolkits"
   ]
  },
  {
   "cell_type": "markdown",
   "metadata": {
    "slideshow": {
     "slide_type": "slide"
    }
   },
   "source": [
    "# Why toolkits?\n",
    "\n",
    "## A reusable tool bag of components\n",
    "\n",
    "* Network structure; layers, connectivity\n",
    "* Loss functions defining optimization objective\n",
    "* Optimization methods for training (SGD,(+Momentum),ADAM,...)\n",
    "* Computation of gradients (reverse mode AD aka \"backpropagation\")\n",
    "* Computational backends (CPU/GPU/TPU/...)\n",
    "* Packaged example training datasets\n",
    "* Model persistence, deployment\n",
    "* ...\n",
    "\n"
   ]
  },
  {
   "cell_type": "markdown",
   "metadata": {
    "slideshow": {
     "slide_type": "slide"
    }
   },
   "source": [
    "# Some toolkits\n",
    "\n",
    "![MNIST digits](arvix_graph_cut.png)\n",
    "\n",
    "(credit <https://twitter.com/karpathy/status/972295865187512320?lang=en>)"
   ]
  },
  {
   "cell_type": "markdown",
   "metadata": {
    "slideshow": {
     "slide_type": "slide"
    }
   },
   "source": [
    "# We will look at\n",
    "\n",
    "Somewhat in depth\n",
    "\n",
    "* [Keras](https://keras.io) — *Simple* python framework (various backends)\n",
    "\n",
    "A shallower view, depending on time\n",
    "\n",
    "* [Flux](http://fluxml.ai) — *Flexible transparent* pure julia framework\n",
    "* [PyTorch](https://pytorch.org/) — *Flexible*, python-native framework (cf numpy)\n",
    "* [TensorFlow](https://www.tensorflow.org) — *\"Industrial strength\"* C++ framework; python frontend"
   ]
  },
  {
   "cell_type": "markdown",
   "metadata": {
    "slideshow": {
     "slide_type": "slide"
    }
   },
   "source": [
    "# Tutorial overview\n",
    "\n",
    "* Toolkit-specific installation\n",
    "* Data set import\n",
    "* Model & loss function setup\n",
    "* Training\n",
    "* Pretty pictures!\n",
    "   * Reconstructed digits\n",
    "   * Latent space structure\n",
    "* Compare code from different toolkits"
   ]
  },
  {
   "cell_type": "markdown",
   "metadata": {
    "slideshow": {
     "slide_type": "slide"
    }
   },
   "source": [
    "# Dataset and model\n",
    "\n",
    "* We will teach the computer to *compress* handwritten digits\n",
    "* Standard MNIST dataset (boo!)\n",
    "* Train various autoencoders\n",
    "* *Generate* new random digits (depending on time!)"
   ]
  },
  {
   "cell_type": "markdown",
   "metadata": {
    "slideshow": {
     "slide_type": "slide"
    }
   },
   "source": [
    "## Dataset \n",
    "https://en.wikipedia.org/wiki/MNIST_database\n",
    "\n",
    "![MNIST digits](MnistExamples.png)\n"
   ]
  },
  {
   "cell_type": "markdown",
   "metadata": {
    "slideshow": {
     "slide_type": "slide"
    }
   },
   "source": [
    "## Autoencoders\n",
    "\n",
    "* https://en.wikipedia.org/wiki/Autoencoder\n",
    "* Compresses redundant information into low dimensions\n",
    "\n",
    "![Autoencoder structure](Autoencoder_structure.png)\n"
   ]
  },
  {
   "cell_type": "markdown",
   "metadata": {
    "slideshow": {
     "slide_type": "slide"
    }
   },
   "source": [
    "## Variational Autoencoder\n",
    "\n",
    "* A great blog post: <https://jaan.io/what-is-variational-autoencoder-vae-tutorial>\n",
    "* Force the code $z$ to be known distribution (a multivariate gaussian).\n",
    "* Can compress input, just as a normal autoencoder\n",
    "* Can *generate* new output by sampling from the known distribution of $z$."
   ]
  },
  {
   "cell_type": "markdown",
   "metadata": {
    "slideshow": {
     "slide_type": "slide"
    }
   },
   "source": [
    "## Links\n",
    "\n",
    "* Keras vs pytorch: <https://deepsense.ai/keras-or-pytorch>"
   ]
  }
 ],
 "metadata": {
  "@webio": {
   "lastCommId": "fd91206b854c425f9180e9b710043840",
   "lastKernelId": "2a843633-be0a-4bae-9707-0808c013c5a9"
  },
  "celltoolbar": "Slideshow",
  "kernelspec": {
   "display_name": "Julia 1.0.2",
   "language": "julia",
   "name": "julia-1.0"
  },
  "language_info": {
   "file_extension": ".jl",
   "mimetype": "application/julia",
   "name": "julia",
   "version": "1.0.2"
  },
  "latex_envs": {
   "LaTeX_envs_menu_present": true,
   "autoclose": false,
   "autocomplete": true,
   "bibliofile": "biblio.bib",
   "cite_by": "apalike",
   "current_citInitial": 1,
   "eqLabelWithNumbers": true,
   "eqNumInitial": 1,
   "hotkeys": {
    "equation": "Ctrl-E",
    "itemize": "Ctrl-I"
   },
   "labels_anchors": false,
   "latex_user_defs": false,
   "report_style_numbering": false,
   "user_envs_cfg": false
  }
 },
 "nbformat": 4,
 "nbformat_minor": 2
}
